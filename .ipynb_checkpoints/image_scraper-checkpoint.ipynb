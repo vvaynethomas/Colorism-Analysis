{
 "cells": [
  {
   "cell_type": "code",
   "execution_count": 5,
   "metadata": {},
   "outputs": [
    {
     "data": {
      "text/html": [
       "<div>\n",
       "<style scoped>\n",
       "    .dataframe tbody tr th:only-of-type {\n",
       "        vertical-align: middle;\n",
       "    }\n",
       "\n",
       "    .dataframe tbody tr th {\n",
       "        vertical-align: top;\n",
       "    }\n",
       "\n",
       "    .dataframe thead th {\n",
       "        text-align: right;\n",
       "    }\n",
       "</style>\n",
       "<table border=\"1\" class=\"dataframe\">\n",
       "  <thead>\n",
       "    <tr style=\"text-align: right;\">\n",
       "      <th></th>\n",
       "      <th>Company</th>\n",
       "      <th>Executive</th>\n",
       "      <th>Title</th>\n",
       "      <th>Since</th>\n",
       "    </tr>\n",
       "  </thead>\n",
       "  <tbody>\n",
       "    <tr>\n",
       "      <th>0</th>\n",
       "      <td>Accenture</td>\n",
       "      <td>Julie%20Sweet</td>\n",
       "      <td>CEO[1]</td>\n",
       "      <td>2019</td>\n",
       "    </tr>\n",
       "    <tr>\n",
       "      <th>1</th>\n",
       "      <td>Aditya Birla Group</td>\n",
       "      <td>Kumar%20Birla</td>\n",
       "      <td>Chairman[2]</td>\n",
       "      <td>1995[2]</td>\n",
       "    </tr>\n",
       "    <tr>\n",
       "      <th>2</th>\n",
       "      <td>Adobe Systems</td>\n",
       "      <td>Shantanu%20Narayen</td>\n",
       "      <td>Chairman, president and CEO[3]</td>\n",
       "      <td>2007</td>\n",
       "    </tr>\n",
       "    <tr>\n",
       "      <th>3</th>\n",
       "      <td>Agenus</td>\n",
       "      <td>Garo%20H.%20Armen</td>\n",
       "      <td>Founder, chairman, CEO[4]</td>\n",
       "      <td>1994</td>\n",
       "    </tr>\n",
       "    <tr>\n",
       "      <th>4</th>\n",
       "      <td>Airbus</td>\n",
       "      <td>Guillaume%20Faury</td>\n",
       "      <td>CEO[5]</td>\n",
       "      <td>2012</td>\n",
       "    </tr>\n",
       "    <tr>\n",
       "      <th>...</th>\n",
       "      <td>...</td>\n",
       "      <td>...</td>\n",
       "      <td>...</td>\n",
       "      <td>...</td>\n",
       "    </tr>\n",
       "    <tr>\n",
       "      <th>174</th>\n",
       "      <td>Williams-Sonoma, Inc.</td>\n",
       "      <td>Laura%20J.%20Alber</td>\n",
       "      <td>President and CEO[161]</td>\n",
       "      <td>2010</td>\n",
       "    </tr>\n",
       "    <tr>\n",
       "      <th>175</th>\n",
       "      <td>Wipro Technologies Limited</td>\n",
       "      <td>Abidali%20Neemuchwala</td>\n",
       "      <td>CEO[162]</td>\n",
       "      <td>2016</td>\n",
       "    </tr>\n",
       "    <tr>\n",
       "      <th>176</th>\n",
       "      <td>WWE</td>\n",
       "      <td>Vince%20McMahon</td>\n",
       "      <td>Chairman and CEO[163]</td>\n",
       "      <td>2009</td>\n",
       "    </tr>\n",
       "    <tr>\n",
       "      <th>177</th>\n",
       "      <td>Yum! Brands</td>\n",
       "      <td>Greg%20Creed</td>\n",
       "      <td>CEO[164]</td>\n",
       "      <td>2015</td>\n",
       "    </tr>\n",
       "    <tr>\n",
       "      <th>178</th>\n",
       "      <td>Zillow Group</td>\n",
       "      <td>Rich%20Barton</td>\n",
       "      <td>CEO[165]</td>\n",
       "      <td>2019</td>\n",
       "    </tr>\n",
       "  </tbody>\n",
       "</table>\n",
       "<p>179 rows × 4 columns</p>\n",
       "</div>"
      ],
      "text/plain": [
       "                        Company              Executive  \\\n",
       "0                     Accenture          Julie%20Sweet   \n",
       "1            Aditya Birla Group          Kumar%20Birla   \n",
       "2                 Adobe Systems     Shantanu%20Narayen   \n",
       "3                        Agenus      Garo%20H.%20Armen   \n",
       "4                        Airbus      Guillaume%20Faury   \n",
       "..                          ...                    ...   \n",
       "174       Williams-Sonoma, Inc.     Laura%20J.%20Alber   \n",
       "175  Wipro Technologies Limited  Abidali%20Neemuchwala   \n",
       "176                         WWE        Vince%20McMahon   \n",
       "177                 Yum! Brands           Greg%20Creed   \n",
       "178                Zillow Group          Rich%20Barton   \n",
       "\n",
       "                              Title    Since  \n",
       "0                            CEO[1]     2019  \n",
       "1                       Chairman[2]  1995[2]  \n",
       "2    Chairman, president and CEO[3]     2007  \n",
       "3         Founder, chairman, CEO[4]     1994  \n",
       "4                            CEO[5]     2012  \n",
       "..                              ...      ...  \n",
       "174          President and CEO[161]     2010  \n",
       "175                        CEO[162]     2016  \n",
       "176           Chairman and CEO[163]     2009  \n",
       "177                        CEO[164]     2015  \n",
       "178                        CEO[165]     2019  \n",
       "\n",
       "[179 rows x 4 columns]"
      ]
     },
     "execution_count": 5,
     "metadata": {},
     "output_type": "execute_result"
    }
   ],
   "source": [
    "import requests as req\n",
    "import pandas as pd\n",
    "from bs4 import BeautifulSoup as bsoup\n",
    "import urllib.request as urllib2\n",
    "import json\n",
    "pd.options.mode.chained_assignment = None\n",
    "\n",
    "url = 'https://en.wikipedia.org/wiki/List_of_chief_executive_officers'\n",
    "html = req.get(url).content\n",
    "df_list = pd.read_html(html)\n",
    "df = df_list[0]\n",
    "df = df[['Company', 'Executive', 'Title', 'Since']]\n",
    "df['Executive'] = df['Executive'].str.replace(\" \", \"%20\")\n",
    "df\n"
   ]
  },
  {
   "cell_type": "code",
   "execution_count": 144,
   "metadata": {},
   "outputs": [],
   "source": [
    "df.to_csv('df.csv', index=False)"
   ]
  },
  {
   "cell_type": "code",
   "execution_count": 11,
   "metadata": {},
   "outputs": [
    {
     "data": {
      "text/plain": [
       "0.14959174778586828"
      ]
     },
     "execution_count": 11,
     "metadata": {},
     "output_type": "execute_result"
    }
   ],
   "source": [
    "import cv2\n",
    "import numpy as np\n",
    "from skimage import io\n",
    "from skimage import color\n",
    "\n",
    "img = color.rgb2gray(io.imread('images/tester.png')[:, :, :-1])\n",
    "average = img.mean(axis=0).mean(axis=0)\n",
    "average"
   ]
  },
  {
   "cell_type": "code",
   "execution_count": 36,
   "metadata": {},
   "outputs": [
    {
     "name": "stdout",
     "output_type": "stream",
     "text": [
      "problem with Images/Andrew%20Mackenzie.jpg, storing NAN\n",
      "problem with Images/Brian%20Peddle.jpg, storing NAN\n",
      "resolution for Images/BÃ¶rje%20Ekholm.jpg is too low: (98, 162, 3)\n",
      "problem with Images/Daymond%20John.jpg, storing NAN\n",
      "problem with Images/Dieter%20Zetsche.jpg, storing NAN\n",
      "resolution for Images/Garo%H.%Armen.jpg is too low: (91, 162, 3)\n",
      "problem with Images/James%20Quincey.jpg, storing NAN\n",
      "problem with Images/John%20A.%20Kaneb.jpg, storing NAN\n",
      "problem with Images/Kevin%20Sneader.jpg, storing NAN\n",
      "problem with Images/Phiwa%20Nkambule.jpg, storing NAN\n",
      "problem with Images/Satya%20Nadella.jpg, storing NAN\n",
      "resolution for Images/Shantanu%Narayen.jpg is too low: (81, 162, 3)\n",
      "problem with Images/Stefano%20Pessina.jpg, storing NAN\n",
      "problem with Images/Tim%20Cook.jpg, storing NAN\n",
      "no image passed, storing NAN\n",
      "face detection error, storing NAN\n",
      "face detection error, storing NAN\n",
      "no image passed, storing NAN\n",
      "no image passed, storing NAN\n",
      "face detection error, storing NAN\n",
      "face detection error, storing NAN\n",
      "no image passed, storing NAN\n",
      "no image passed, storing NAN\n",
      "face detection error, storing NAN\n",
      "no image passed, storing NAN\n",
      "no image passed, storing NAN\n",
      "face detection error, storing NAN\n",
      "no image passed, storing NAN\n",
      "no image passed, storing NAN\n",
      "no image passed, storing NAN\n",
      "face detection error, storing NAN\n",
      "no image passed, storing NAN\n",
      "face detection error, storing NAN\n",
      "no image passed, storing NAN\n",
      "no image passed, storing NAN\n",
      "no image passed, storing NAN\n"
     ]
    }
   ],
   "source": [
    "%matplotlib inline\n",
    "import cv2\n",
    "import os\n",
    "import im_proc_functions\n",
    "import seaborn as sns\n",
    "import matplotlib.pyplot as plt\n",
    "import numpy as np\n",
    "import scipy\n",
    "stats_df = im_proc_functions.batch_process('Images')"
   ]
  },
  {
   "cell_type": "code",
   "execution_count": 37,
   "metadata": {},
   "outputs": [
    {
     "name": "stdout",
     "output_type": "stream",
     "text": [
      "174\n",
      "152\n"
     ]
    }
   ],
   "source": [
    "stats_df\n",
    "stats_df.sort_values(by='mean')\n",
    "print(len(stats_df.index))\n",
    "stats_df = stats_df.dropna()\n",
    "print(len(stats_df.index))\n",
    "from sklearn.preprocessing import MinMaxScaler\n",
    "new_df = stats_df\n",
    "x = new_df[['mode']]\n",
    "scaler = MinMaxScaler()\n",
    "df_scaled = pd.DataFrame(scaler.fit_transform(x), columns=x.columns)\n",
    "\n",
    "def rand_jitter(arr):\n",
    "    stdev = .01*(max(arr)-min(arr))\n",
    "    return arr + np.random.randn(len(arr)) * stdev\n",
    "list1 = np.array([1]*110)\n",
    "new_df['plotitx'] = rand_jitter(df_scaled['mode'])"
   ]
  },
  {
   "cell_type": "code",
   "execution_count": 39,
   "metadata": {},
   "outputs": [
    {
     "data": {
      "text/plain": [
       "<matplotlib.offsetbox.OffsetImage at 0x7f2b9f49ffa0>"
      ]
     },
     "execution_count": 39,
     "metadata": {},
     "output_type": "execute_result"
    }
   ],
   "source": [
    "def getImage(path):\n",
    "    return OffsetImage(plt.imread(path))\n",
    "\n",
    "OffsetImage(new_df['face_image'][1])"
   ]
  },
  {
   "cell_type": "code",
   "execution_count": 49,
   "metadata": {},
   "outputs": [
    {
     "data": {
      "text/plain": [
       "<Figure size 1440x3600 with 0 Axes>"
      ]
     },
     "metadata": {},
     "output_type": "display_data"
    },
    {
     "data": {
      "image/png": "[encoded data removed]",
      "text/plain": [
       "<Figure size 432x288 with 1 Axes>"
      ]
     },
     "metadata": {
      "needs_background": "light"
     },
     "output_type": "display_data"
    }
   ],
   "source": [
    "from matplotlib.offsetbox import OffsetImage, AnnotationBbox\n",
    "import matplotlib.pyplot as plt\n",
    "\n",
    "plt.figure(figsize=(20,50))\n",
    "fig, ax = plt.subplots()\n",
    "ax.scatter(new_df[['plotitx']], new_df[['mode']]) \n",
    "\n",
    "for x, y, pic in zip(new_df['plotitx'], new_df['mode'], new_df['face_image']):\n",
    "    ab = AnnotationBbox(OffsetImage(pic, zoom = .05), (x, y), frameon=False)\n",
    "    ax.add_artist(ab)"
   ]
  }
 ],
 "metadata": {
  "kernelspec": {
   "display_name": "Python 3",
   "language": "python",
   "name": "python3"
  },
  "language_info": {
   "codemirror_mode": {
    "name": "ipython",
    "version": 3
   },
   "file_extension": ".py",
   "mimetype": "text/x-python",
   "name": "python",
   "nbconvert_exporter": "python",
   "pygments_lexer": "ipython3",
   "version": "3.8.2"
  }
 },
 "nbformat": 4,
 "nbformat_minor": 4
}
